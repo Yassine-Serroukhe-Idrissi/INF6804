{
 "cells": [
  {
   "cell_type": "markdown",
   "metadata": {},
   "source": [
    "TP1 INF6804 HOG"
   ]
  },
  {
   "cell_type": "markdown",
   "metadata": {},
   "source": [
    "Imports"
   ]
  },
  {
   "cell_type": "code",
   "execution_count": 2,
   "metadata": {},
   "outputs": [],
   "source": [
    "import numpy as np\n",
    "import cv2\n",
    "import os\n",
    "import matplotlib.pyplot as plt"
   ]
  },
  {
   "cell_type": "code",
   "execution_count": 17,
   "metadata": {},
   "outputs": [
    {
     "name": "stdout",
     "output_type": "stream",
     "text": [
      "(34596,)\n",
      "961\n",
      "(961, 36)\n"
     ]
    }
   ],
   "source": [
    "image_query_name = \"./TP1_data/lotus_query.jpg\"\n",
    "image = cv2.imread(image_query_name, cv2.IMREAD_GRAYSCALE)\n",
    "\n",
    "# Set HOG descriptor parameters\n",
    "win_size = (256, 256)      # Size of the window (image patch)\n",
    "block_size = (16, 16)    # Size of each block\n",
    "block_stride = (8, 8)    # Step size to move the block\n",
    "cell_size = (8, 8)       # Size of each cell within a block\n",
    "nbins = 9                # Number of histogram bins\n",
    "\n",
    "# Create the HOG descriptor object\n",
    "hog = cv2.HOGDescriptor(win_size, block_size, block_stride, cell_size, nbins)\n",
    "\n",
    "# Resize the image to match the HOG descriptor window size\n",
    "image_resized = cv2.resize(image, win_size)\n",
    "\n",
    "# Compute the HOG descriptor for the entire image\n",
    "hog_features = hog.compute(image_resized)\n",
    "print(hog_features.shape)\n",
    "\n",
    "# Compute the number of blocks\n",
    "n_blocks_x = (win_size[0] - block_size[0]) // block_stride[0] + 1\n",
    "n_blocks_y = (win_size[1] - block_size[1]) // block_stride[1] + 1\n",
    "n_blocks = n_blocks_x * n_blocks_y\n",
    "print(n_blocks)\n",
    "# Reshape the HOG features into blocks\n",
    "hog_features_per_block = np.reshape(hog_features, (n_blocks, -1))\n",
    "print(hog_features_per_block.shape)\n"
   ]
  },
  {
   "cell_type": "code",
   "execution_count": 18,
   "metadata": {},
   "outputs": [
    {
     "data": {
      "image/png": "[encoded data removed]",
      "text/plain": [
       "<Figure size 640x480 with 1 Axes>"
      ]
     },
     "metadata": {},
     "output_type": "display_data"
    }
   ],
   "source": [
    "# Plot the histogram for the first block as an example\n",
    "block_index = 5 # Choose the block to visualize\n",
    "plt.bar(range(hog_features_per_block.shape[1]), hog_features_per_block[block_index])\n",
    "plt.title(f'HOG Histogram for Block {block_index}')\n",
    "plt.xlabel('Bins')\n",
    "plt.ylabel('Frequency')\n",
    "plt.show()"
   ]
  },
  {
   "cell_type": "code",
   "execution_count": 7,
   "metadata": {},
   "outputs": [],
   "source": [
    "def compute_dist(image_name1,image_name2):\n",
    "    # Set HOG descriptor parameters\n",
    "    win_size = (256, 256)      # Size of the window (image patch)\n",
    "    block_size = (16, 16)    # Size of each block\n",
    "    block_stride = (8, 8)    # Step size to move the block\n",
    "    cell_size = (8, 8)       # Size of each cell within a block\n",
    "    nbins = 9                # Number of histogram bins\n",
    "\n",
    "    # Create the HOG descriptor object\n",
    "    \n",
    "    hog = cv2.HOGDescriptor(win_size, block_size, block_stride, cell_size, nbins)\n",
    "    image1 = cv2.imread(image_name1, cv2.IMREAD_GRAYSCALE)\n",
    "    image2 = cv2.imread(image_name2, cv2.IMREAD_GRAYSCALE)\n",
    "    # Resize the image to match the HOG descriptor window size\n",
    "    image_resized1 = cv2.resize(image1, win_size)\n",
    "    image_resized2 = cv2.resize(image2, win_size)\n",
    "\n",
    "    # Compute the HOG descriptor for the images\n",
    "    hog_features1 = hog.compute(image_resized1)\n",
    "    hog_features2 = hog.compute(image_resized2)\n",
    "\n",
    "    #Compute the distance between the two HOG descriptors\n",
    "    dist = np.linalg.norm(hog_features1-hog_features2)\n",
    "    return dist\n",
    "\n",
    "def compute_dist_all(image_query_name):\n",
    "    list_dist = []\n",
    "    for file_name in os.listdir(\"./TP1_data/database\"):\n",
    "        if file_name.endswith(\".jpg\"):\n",
    "            \n",
    "            dist = compute_dist(image_query_name,\"./TP1_data/database/\"+file_name)\n",
    "            list_dist.append((file_name,dist))\n",
    "    return list_dist"
   ]
  },
  {
   "cell_type": "code",
   "execution_count": 8,
   "metadata": {},
   "outputs": [
    {
     "name": "stdout",
     "output_type": "stream",
     "text": [
      "[('lotus_3.jpg', 26.738867), ('dolphin_5.jpg', 26.948854), ('cat_4.jpg', 26.976068), ('airplane_1.jpg', 27.022568), ('lotus_1.jpg', 27.154217)]\n"
     ]
    }
   ],
   "source": [
    "list_dist = compute_dist_all(image_query_name)\n",
    "short_list = sorted(list_dist, key=lambda x: x[1])[:5]\n",
    "print(short_list)"
   ]
  }
 ],
 "metadata": {
  "kernelspec": {
   "display_name": "Python 3",
   "language": "python",
   "name": "python3"
  },
  "language_info": {
   "codemirror_mode": {
    "name": "ipython",
    "version": 3
   },
   "file_extension": ".py",
   "mimetype": "text/x-python",
   "name": "python",
   "nbconvert_exporter": "python",
   "pygments_lexer": "ipython3",
   "version": "3.12.8"
  }
 },
 "nbformat": 4,
 "nbformat_minor": 2
}
